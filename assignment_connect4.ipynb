{
  "cells": [
    {
      "cell_type": "markdown",
      "metadata": {
        "id": "ako0FQKyh39j"
      },
      "source": [
        "# Adversarial Search: Playing Connect 4\n",
        "\n",
        "Student Name: Jadon Swearingen\n",
        "\n",
        "I have used the following AI tools: [list tools]\n",
        "\n",
        "I understand that my submission needs to be my own work: JS\n",
        "\n",
        "## Instructions\n",
        "\n",
        "Total Points: Undegraduates 100, graduate students 110\n",
        "\n",
        "Complete this notebook and submit it. The notebook needs to be a complete project report with your implementation, documentation including a short discussion of how your implementation works and your design choices, and experimental results (e.g., tables and charts with simulation results) with a short discussion of what they mean. Use the provided notebook cells and insert additional code and markdown cells as needed.\n",
        "\n",
        "## Introduction\n",
        "\n",
        "You will implement different versions of agents that play Connect 4:\n",
        "\n",
        "> \"Connect 4 is a two-player connection board game, in which the players choose a color and then take turns dropping colored discs into a seven-column, six-row vertically suspended grid. The pieces fall straight down, occupying the lowest available space within the column. The objective of the game is to be the first to form a horizontal, vertical, or diagonal line of four of one's own discs.\" (see [Connect Four on Wikipedia](https://en.wikipedia.org/wiki/Connect_Four))\n",
        "\n",
        "Note that [Connect-4 has been solved](https://en.wikipedia.org/wiki/Connect_Four#Mathematical_solution)\n",
        "in 1988. A connect-4 solver with a discussion of how to solve different parts of the problem can be found here: https://connect4.gamesolver.org/en/"
      ]
    },
    {
      "cell_type": "markdown",
      "metadata": {
        "id": "2cVyJETJh39m"
      },
      "source": [
        "## Task 1: Defining the Search Problem [10 point]\n",
        "\n",
        "Define the components of the search problem:\n",
        "\n",
        "* Initial state\n",
        "* Actions\n",
        "* Transition model (result function)\n",
        "* Goal state (terminal state and utility)"
      ]
    },
    {
      "cell_type": "markdown",
      "metadata": {},
      "source": [
        "Initial state: Blank 6row by 7 column grid\n",
        "Actions: Place  colored disk(red or yellow) in one of the columns {1-7}, where it falls to the bottom of the column. If the column is full, you cannot choose that action anymore\n",
        "\n",
        "Transition model:\n",
        "Takes a state(board), and given an action, returns the new board. For example, if the state was an empty grid and you drop a red disk in column 2, the result function returns the new state where there is only one piece on the board (bottom row of column 2).\n",
        "\n",
        "Goal State: 4 in a row of your color (diagonal, horizontal, or vertical) is utility 1. 4 in a row of other color is -1 utility. completely filled board with no 4 in a row is utility 0."
      ]
    },
    {
      "cell_type": "markdown",
      "metadata": {
        "id": "OMrwVeJXh39n"
      },
      "source": [
        "How big is the state space? Give an estimate and explain it."
      ]
    },
    {
      "cell_type": "markdown",
      "metadata": {},
      "source": [
        "Each spot has 3 options: red, yellow, empty. There are 42 spots. This makes the state space 3^42 = 1.1 * 10^20, since each spot adds another three possibilities that are multiplied together. However, many of these are unreachable due to having to alternate when placing, and so each option can only happen a max of 21 times. This means that things like all red are not reachable. Due to this, Wikipedia gives an exact number of only 4,531,985,219,092."
      ]
    },
    {
      "cell_type": "markdown",
      "metadata": {
        "id": "akFwt7Xgh39n"
      },
      "source": [
        "How big is the game tree that minimax search will go through? Give an estimate and explain it."
      ]
    },
    {
      "cell_type": "markdown",
      "metadata": {},
      "source": [
        "The branching factor is 7, since there are 7 legal moves. The depth is 42, since after 42 moves the game has to be done. Worst case, that means 7^42, which is more than 3 * 10^37. However, as it reaches goal states, it will be reduced."
      ]
    },
    {
      "cell_type": "markdown",
      "metadata": {
        "id": "sOq5utvph39o"
      },
      "source": [
        "## Task 2: Game Environment and Random Agent [25 point]\n",
        "\n",
        "Use a numpy character array as the board."
      ]
    },
    {
      "cell_type": "code",
      "execution_count": 534,
      "metadata": {
        "id": "DweFx_ZSh39o",
        "outputId": "ad28a7b4-f8a2-4ae4-9564-9a409d4e903a"
      },
      "outputs": [
        {
          "name": "stdout",
          "output_type": "stream",
          "text": [
            "[[0 0 0 0 0 0 0]\n",
            " [0 0 0 0 0 0 0]\n",
            " [0 0 0 0 0 0 0]\n",
            " [0 0 0 0 0 0 0]\n",
            " [0 0 0 0 0 0 0]\n",
            " [0 0 0 0 0 0 0]]\n"
          ]
        }
      ],
      "source": [
        "import numpy as np\n",
        "\n",
        "def empty_board(shape=(6, 7)):\n",
        "    return np.full(shape=shape, fill_value=0)\n",
        "\n",
        "print(empty_board())"
      ]
    },
    {
      "cell_type": "markdown",
      "metadata": {
        "id": "LnokqmHWh39p"
      },
      "source": [
        "The standard board is $6 \\times 7$ but you can use smaller boards to test your code. Instead of colors (red and yellow), I use 1 and -1 to represent the players. Make sure that your agent functions all have the form: `agent_type(board, player = 1)`, where board is the current board position (in the format above) and player is the player whose next move it is and who the agent should play (as 1 and -1)."
      ]
    },
    {
      "cell_type": "code",
      "execution_count": 535,
      "metadata": {
        "id": "u9XVPldOh39p",
        "outputId": "4a7c150c-d3ec-4f3e-adb9-5b9327f30934",
        "tags": []
      },
      "outputs": [
        {
          "data": {
            "image/png": "[encoded data removed]",
            "text/plain": [
              "<Figure size 640x480 with 1 Axes>"
            ]
          },
          "metadata": {},
          "output_type": "display_data"
        }
      ],
      "source": [
        "# Visualization code by Randolph Rankin\n",
        "\n",
        "import matplotlib.pyplot as plt\n",
        "\n",
        "def visualize(board):\n",
        "    plt.axes()\n",
        "    rectangle=plt.Rectangle((-0.5,len(board)*-1+0.5),len(board[0]),len(board),fc='blue')\n",
        "    circles=[]\n",
        "    for i,row in enumerate(board):\n",
        "        for j,val in enumerate(row):\n",
        "            color='white' if val==0 else 'red' if val==1 else 'yellow'\n",
        "            circles.append(plt.Circle((j,i*-1),0.4,fc=color))\n",
        "\n",
        "    plt.gca().add_patch(rectangle)\n",
        "    for circle in circles:\n",
        "        plt.gca().add_patch(circle)\n",
        "\n",
        "    plt.axis('scaled')\n",
        "    plt.show()\n",
        "\n",
        "board = [[0, 0, 0, 0, 0, 0, 0],\n",
        "         [0, 0, 0, 0, 0, 0, 0],\n",
        "         [0, 0, 0, 0, 0, 0, 0],\n",
        "         [0, 0, 0, 1, 0, 0, 0],\n",
        "         [0, 0, 0, 1, 0, 0, 0],\n",
        "         [0,-1,-1, 1,-1, 0, 0]]\n",
        "visualize(board)"
      ]
    },
    {
      "cell_type": "markdown",
      "metadata": {
        "id": "cWOxkAEXh39p",
        "tags": []
      },
      "source": [
        "Implement helper functions for:\n",
        "\n",
        "* A check for available actions in each state `actions(s)`.\n",
        "* The transition model `result(s, a)`.\n",
        "* Check for terminal states `terminal(s)`.\n",
        "* The utility function `utility(s)`.\n",
        "\n",
        "Make sure that all these functions work with boards of different sizes (number of columns and rows)."
      ]
    },
    {
      "cell_type": "code",
      "execution_count": 536,
      "metadata": {
        "id": "byLBdY9zh39p"
      },
      "outputs": [],
      "source": [
        "import math\n",
        "import copy\n",
        "# Your code/ answer goes here.\n",
        "# def actions(board):\n",
        "#     #returns a list of 1-7 matched to the row # which are available actions\n",
        "#     available = []\n",
        "#     for i in range(len(board[0])):\n",
        "#         if board[0][i] == 0:\n",
        "#             available.append(i+1)\n",
        "#     return available\n",
        "class BaseConnectFour:\n",
        "    @staticmethod\n",
        "    def actions(board):\n",
        "        #returns a list of 0-6 matched to the row # which are available actions\n",
        "        available = []\n",
        "        for i in range(len(board[0])):\n",
        "            if board[0][i] == 0:\n",
        "                available.append(i)\n",
        "        return available\n",
        "\n",
        "\n",
        "    @staticmethod\n",
        "    def result(board,action,player):\n",
        "        new_board = copy.deepcopy(board)\n",
        "        color = player\n",
        "        action = abs(action)\n",
        "        # if action >= len(new_board[0]) or new_board[0][action] != 0:\n",
        "        #     raise ValueError(\"Invalid action\")\n",
        "        if action >= len(new_board[0]):\n",
        "            raise ValueError(\"Invalid action: Action is outside the board's boundaries\")\n",
        "\n",
        "        if new_board[0][action] != 0:\n",
        "            raise ValueError(\"Invalid action: Column is full\")\n",
        "        row = -1\n",
        "        for i in reversed(range(len(new_board))):\n",
        "            if new_board[i][action] == 0:\n",
        "                new_board[i][action] = color\n",
        "                row = i\n",
        "                break\n",
        "        #return the new_board, and (row placed, column placed)\n",
        "        return (new_board,(row,action))\n",
        "\n",
        "    #a faster implementation would involve knowing the last action, and then only checking directions from there\n",
        "    #checks if the board is an end state, i.e. someone has won by either 4 in a row horizontal\n",
        "    #, vertical, diagonal, or the board is filled up.\n",
        "    @staticmethod\n",
        "    def terminal(b):\n",
        "        board = copy.deepcopy(b)\n",
        "        # check the if the board is filled up\n",
        "        for col in range(len(board[0])):\n",
        "            if board[0][col] == 0:\n",
        "                break\n",
        "        else:\n",
        "            return True\n",
        "        \n",
        "        #check for rows\n",
        "        for row in board:\n",
        "            for i in range(len(row)-3):\n",
        "                if abs(sum(row[i:i+4])) == 4:\n",
        "                    return True\n",
        "        \n",
        "        #check for columns\n",
        "        for col in range(len(board[0])):\n",
        "            for i in range(len(board) - 3):\n",
        "                if abs(sum(board[i][col] for i in range(i, i+4))) == 4:\n",
        "                    return True\n",
        "        \n",
        "        # Check right diagonals\n",
        "        for row in range(len(board) - 3):\n",
        "            for col in range(len(board[0]) - 3):\n",
        "                if abs(sum(board[row+i][col+i] for i in range(4))) == 4:\n",
        "                    return True\n",
        "\n",
        "        # Check left diagonals\n",
        "        for row in range(3, len(board)):\n",
        "            for col in range(len(board[0]) - 3):\n",
        "                if abs(sum(board[row-i][col+i] for i in range(4))) == 4:\n",
        "                    return True\n",
        "                \n",
        "                \n",
        "        #if none of these, return false\n",
        "        return False\n",
        "\n",
        "\n",
        "    #fast version of terminal using last_action, where last_action is the row,col of the last placed piece.\n",
        "    @staticmethod\n",
        "    def terminalFast(board, last_action):\n",
        "        color = board[last_action[0]][last_action[1]]\n",
        "        directions = [(0, 1), (1, 0), (1, 1), (1, -1)]\n",
        "\n",
        "        for dx, dy in directions:\n",
        "            count = 0\n",
        "            for dir in [-1, 1]:\n",
        "                for dist in range(1, 4):\n",
        "                    x, y = last_action[0] + dir*dist*dx, last_action[1] + dir*dist*dy\n",
        "                    if (0 <= x < len(board)) and (0 <= y < len(board[0])) and (board[x][y] == color):\n",
        "                        count += 1\n",
        "                    else:\n",
        "                        break\n",
        "            if count >= 3:\n",
        "                return True\n",
        "\n",
        "        # Check if the board is filled up\n",
        "        for col in range(len(board[0])):\n",
        "            if board[0][col] == 0:\n",
        "                break\n",
        "        else:\n",
        "            return True\n",
        "\n",
        "        return False\n",
        "\n",
        "    @staticmethod\n",
        "    def utility(b,player=1):\n",
        "        board = copy.deepcopy(b)\n",
        "        # check the if the board is filled up\n",
        "        \n",
        "        #check for rows\n",
        "        for row in board:\n",
        "            for col in range(len(row)-3):\n",
        "                if abs(sum(row[col:col+4])) == 4:\n",
        "                    return row[col] * player\n",
        "        \n",
        "        #check for columns\n",
        "        for col in range(len(board[0])):\n",
        "            for row in range(len(board) - 3):\n",
        "                if abs(sum(board[i][col] for i in range(row, row+4))) == 4:\n",
        "                    return board[row][col]* player\n",
        "        \n",
        "        # Check right diagonals\n",
        "        for row in range(len(board) - 3):\n",
        "            for col in range(len(board[0]) - 3):\n",
        "                if abs(sum(board[row+i][col+i] for i in range(4))) == 4:\n",
        "                    return board[row][col]* player\n",
        "\n",
        "        # Check left diagonals\n",
        "        for row in range(3, len(board)):\n",
        "            for col in range(len(board[0]) - 3):\n",
        "                if abs(sum(board[row-i][col+i] for i in range(4))) == 4:\n",
        "                    return board[row][col]* player\n",
        "                \n",
        "        for col in range(len(board[0])):\n",
        "            if board[0][col] == 0:\n",
        "                break\n",
        "        else:\n",
        "            return 0\n",
        "        #if none of these, return false\n",
        "        return None\n",
        "        \n",
        "    @staticmethod\n",
        "    def utilityFast(board, last_action,player=1):\n",
        "        color = board[last_action[0]][last_action[1]]\n",
        "        directions = [(0, 1), (1, 0), (1, 1), (1, -1)]\n",
        "\n",
        "        for dx, dy in directions:\n",
        "            count = 0\n",
        "            for dir in [-1, 1]:\n",
        "                for dist in range(1, 4):\n",
        "                    x, y = last_action[0] + dir*dist*dx, last_action[1] + dir*dist*dy\n",
        "                    if (0 <= x < len(board)) and (0 <= y < len(board[0])) and (board[x][y] == color):\n",
        "                        count += 1\n",
        "                    else:\n",
        "                        break\n",
        "            if count >= 3:\n",
        "                return board[last_action[0]][last_action[1]]* player\n",
        "\n",
        "        # Check if the board is filled up\n",
        "        for col in range(len(board[0])):\n",
        "            if board[0][col] == 0:\n",
        "                break\n",
        "        else:\n",
        "            return 0\n",
        "\n",
        "        return None"
      ]
    },
    {
      "cell_type": "markdown",
      "metadata": {
        "id": "j2d-Msswh39p"
      },
      "source": [
        "Implement an agent that plays randomly. Make sure the agent function receives as the percept the board and returns a valid action. Use an agent function definition with the following signature (arguments):\n",
        "\n",
        "`def random_player(board, player = 1): ...`\n",
        "\n",
        "The argument `player` is used for agents that do not store what color they are playing. The value passed on by the environment should be 1 or -1 for player red and yellow, respectively.  See [Experiments section for tic-tac-toe](https://nbviewer.org/github/mhahsler/CS7320-AI/blob/master/Games/tictactoe_and_or_tree_search.ipynb#Experiments) for an example."
      ]
    },
    {
      "cell_type": "code",
      "execution_count": 537,
      "metadata": {
        "id": "dfpKy8-Uh39q"
      },
      "outputs": [],
      "source": [
        "# Your code/ answer goes here.\n",
        "class RandomPlayer(BaseConnectFour):\n",
        "    def __init__(self,name=\"random\"):\n",
        "        self.__name__ = name\n",
        "    def act(self,board, player=1):\n",
        "        return np.random.choice(BaseConnectFour.actions(board))\n",
        "        # return np.random.choice(actions(board)) * player"
      ]
    },
    {
      "cell_type": "markdown",
      "metadata": {
        "id": "XrZ6CUd2h39q"
      },
      "source": [
        "Let two random agents play against each other 1000 times. Look at the [Experiments section for tic-tac-toe](https://nbviewer.org/github/mhahsler/CS7320-AI/blob/master/Games/tictactoe_and_or_tree_search.ipynb#Experiments) to see how the environment uses the agent functions to play against each other.\n",
        "\n",
        "How often does each player win? Is the result expected?"
      ]
    },
    {
      "cell_type": "code",
      "execution_count": 538,
      "metadata": {},
      "outputs": [],
      "source": [
        "DEBUG = 0\n",
        "import time\n",
        "import numpy as np\n",
        "import matplotlib.pyplot as plt\n",
        "\n",
        "def play(redAgent, yellowAgent, N=100,boardShape=(6,7),graph=False,b = None):\n",
        "    \"\"\"Let two agents play each other N times. x starts. x and y are agent functions that \n",
        "    get the board as the percept and return their next action.\"\"\"\n",
        "    results = {-1: 0, 1: 0, 0: 0}\n",
        "    times = {redAgent.__class__.__name__: [], yellowAgent.__class__.__name__: []}  # Record times for each class\n",
        "    if b == None:\n",
        "        b = empty_board(shape=boardShape)\n",
        "    for i in range(N):\n",
        "        board = b\n",
        "        player = 1\n",
        "\n",
        "        while True:\n",
        "\n",
        "\n",
        "            start_time = time.time()\n",
        "            if player == 1:\n",
        "                c=redAgent\n",
        "                playerAction = redAgent.act(board, player)\n",
        "            else:\n",
        "                c=yellowAgent\n",
        "                playerAction = yellowAgent.act(board, player)\n",
        "\n",
        "            end_time = time.time()\n",
        "            times[c.__class__.__name__].append(end_time - start_time)  # Record time taken\n",
        "\n",
        "            board, exactAction = BaseConnectFour.result(board, playerAction, player)\n",
        "            if(DEBUG):\n",
        "                visualize(board)\n",
        "            res = BaseConnectFour.utilityFast(board, exactAction)\n",
        "            if res is not None:\n",
        "                results[res] += 1\n",
        "                break\n",
        "            player = -player\n",
        "    if graph:\n",
        "        # Convert lists of times to numpy arrays\n",
        "        for class_name in times:\n",
        "            times[class_name] = np.array(times[class_name])\n",
        "\n",
        "        # Plot the times\n",
        "        plt.figure(figsize=(10,6))\n",
        "        for class_name, time_array in times.items():\n",
        "            plt.plot(time_array, label=class_name)\n",
        "        plt.xlabel('Move number')\n",
        "        plt.ylabel('Time taken (s)')\n",
        "        plt.legend()\n",
        "        plt.show()\n",
        "\n",
        "    return results, times\n"
      ]
    },
    {
      "cell_type": "code",
      "execution_count": 539,
      "metadata": {},
      "outputs": [
        {
          "name": "stdout",
          "output_type": "stream",
          "text": [
            "{-1: 427, 1: 569, 0: 4}\n"
          ]
        }
      ],
      "source": [
        "results, _ = play(RandomPlayer(\"red\"),RandomPlayer(\"yellow\"),1000)\n",
        "print(results)"
      ]
    },
    {
      "cell_type": "markdown",
      "metadata": {},
      "source": [
        "You will notice that whichever player starts will win more often when playing randomly. It is also very rare for a tie to occur, happening less than 5 times per thousand"
      ]
    },
    {
      "cell_type": "markdown",
      "metadata": {
        "id": "LD6IQAaih39q"
      },
      "source": [
        "## Task 3: Minimax Search with Alpha-Beta Pruning\n",
        "\n",
        "### Implement the Search [20 points]\n",
        "\n",
        "Implement minimax search starting from a given board for specifying the player.\n",
        "You can use code from the [tic-tac-toe example](https://nbviewer.org/github/mhahsler/CS7320-AI/blob/master/Games/tictactoe_alpha_beta_tree_search.ipynb).\n",
        "\n",
        "__Important Notes:__\n",
        "* Make sure that all your agent functions have a signature consistent with the random agent above and that it [uses a class to store state information.](https://nbviewer.org/github/mhahsler/CS7320-AI/blob/master/HOWTOs/store_agent_state_information.ipynb)\n",
        "This is essential to be able play against agents from other students later.\n",
        "* The search space for a $6 \\times 7$ board is large. You can experiment with smaller boards (the smallest is $4 \\times 4$) and/or changing the winning rule to connect 3 instead of 4."
      ]
    },
    {
      "cell_type": "code",
      "execution_count": 540,
      "metadata": {
        "id": "QNbfZBdbh39q"
      },
      "outputs": [],
      "source": [
        "\n",
        "# Your code/ answer goes here.\n",
        "DEBUG = 0\n",
        "COUNT = 0\n",
        "\n",
        "class JadonMinMaxSearch(BaseConnectFour):\n",
        "    def __init__(self, name = \"An Agent\", max_depth = 4):\n",
        "        self.name = name\n",
        "        self.max_depth = max_depth\n",
        "    # def act(board, player=1):\n",
        "    \n",
        "    # def minimax_search(board, player = 'x'):\n",
        "    def act(self,board,player=1):\n",
        "        \"\"\"start the search.\"\"\"\n",
        "        global DEBUG, COUNT\n",
        "        COUNT = 0\n",
        "        \n",
        "        value, move = self.max_value(board, player,0)\n",
        "        \n",
        "        if DEBUG >= 1: print(f\"Number of nodes searched: {COUNT}\") \n",
        "        return move\n",
        "        # return { \"move\": move, \"value\": value}\n",
        "\n",
        "    def max_value(self,state, player,depth):\n",
        "        \"\"\"player's best move.\"\"\"\n",
        "        global DEBUG, COUNT\n",
        "        COUNT += 1\n",
        "        \n",
        "        # return utility of state if it is a terminal state\n",
        "        v = BaseConnectFour.utility(state, player)\n",
        "        if DEBUG >= 2: print(\"max in: \" + str(state) + str([v]) ) \n",
        "        if v is not None: return v, None\n",
        "        if depth==self.max_depth: return 0,None\n",
        "            \n",
        "        v, move = -math.inf, None\n",
        "\n",
        "        # check all possible actions in the state, return move with the largest value\n",
        "        for a in BaseConnectFour.actions(state):\n",
        "            # v2, a2 = min_value(result(state, player, a), player)\n",
        "\n",
        "            v2, a2 = self.min_value(BaseConnectFour.result(state, a,player)[0], player,depth+1)\n",
        "            if v2 > v:\n",
        "                v, move = v2, a\n",
        "        \n",
        "        if DEBUG >= 2: print(\"max out: \" + str(state) + str([v, move]) ) \n",
        "        return v, move\n",
        "\n",
        "    def min_value(self,state, player,depth):\n",
        "        \"\"\"opponent's best response.\"\"\"\n",
        "        global DEBUG, COUNT\n",
        "        COUNT += 1\n",
        "        \n",
        "        # return utility of state if it is a terminal state\n",
        "        v = BaseConnectFour.utility(state, player)\n",
        "        if DEBUG >= 2: print(\"min in: \" + str(state) + str([v]) ) \n",
        "        if v is not None: return v, None\n",
        "        if depth==self.max_depth: return 0,None\n",
        "\n",
        "        \n",
        "        v, move = +math.inf, None\n",
        "\n",
        "        # check all possible actions in the state, return move with the smallest value\n",
        "        for a in BaseConnectFour.actions(state):\n",
        "            # v2, a2 = max_value(result(state, other(player), a), player)\n",
        "\n",
        "            v2, a2 = self.max_value(BaseConnectFour.result(state, a,-player)[0], player,depth+1)\n",
        "            if v2 < v:\n",
        "                v, move = v2, a\n",
        "        \n",
        "        if DEBUG >= 2: print(\"min out: \" + str(state) + str([v, move]) ) \n",
        "        return v, move"
      ]
    },
    {
      "cell_type": "code",
      "execution_count": 541,
      "metadata": {},
      "outputs": [
        {
          "name": "stdout",
          "output_type": "stream",
          "text": [
            "{-1: 2, 1: 75, 0: 23}\n"
          ]
        }
      ],
      "source": [
        "results, times = play(JadonMinMaxSearch(\"red\",4),RandomPlayer(\"red\"),100,(4,4))\n",
        "print(results)"
      ]
    },
    {
      "cell_type": "markdown",
      "metadata": {
        "id": "yIaG0N9Sh39q"
      },
      "source": [
        "Experiment with some manually created boards (at least 5) to check if the agent spots winning opportunities."
      ]
    },
    {
      "cell_type": "code",
      "execution_count": 542,
      "metadata": {
        "id": "jcXp05fUh39q"
      },
      "outputs": [
        {
          "name": "stdout",
          "output_type": "stream",
          "text": [
            "should be 0 0\n",
            "should be 3 3\n",
            "should be 1 or 5 or 0 (since 0 leads to a state where it wins no matter what also) 0\n",
            "should be 3 3\n",
            "should be 3 3\n"
          ]
        }
      ],
      "source": [
        "# Your code/ answer goes here.\n",
        "agent = JadonMinMaxSearch(max_depth=4)\n",
        "\n",
        "# Winning opportunity for the agent on the next move\n",
        "board1 = [\n",
        "    [0, 0, 0, 0, 0, 0, 0],\n",
        "    [0, 0, 0, 0, 0, 0, 0],\n",
        "    [0, 0, 0, 0, 0, 0, 0],\n",
        "    [1, 0, 0, 0, 0, 0, 0],\n",
        "    [1, 0, 0, 0, 0, 0, 0],\n",
        "    [1, 0, 0, 0, 0, 0, 0]\n",
        "]\n",
        "\n",
        "# Test Case 2: Winning opportunity for the agent in the second column\n",
        "board2 = [\n",
        "    [0, 0, 0, 0, 0, 0, 0],\n",
        "    [0, 0, 0, 0, 0, 0, 0],\n",
        "    [1, 0, 0, 0, 0, 0, 0],\n",
        "    [-1, 1, 0, 0, 0, 0, 0],\n",
        "    [1, -1, 1, 0, 0, 0, 0],\n",
        "    [-1, 1, -1, 0, 0, 0, 0]\n",
        "]\n",
        "\n",
        "# Test Case 3: Winning opportunity for the agent in the third column\n",
        "board3 = [\n",
        "    [0, 0, 0, 0, 0, 0, 0],\n",
        "    [0, 0, 0, 0, 0, 0, 0],\n",
        "    [0, 0, 0, 0, 0, 0, 0],\n",
        "    [0, 0, 0, 0, 0, 0, 0],\n",
        "    [0, 0, 1, 0, 0, 0, 0],\n",
        "    [0, 0, 1, 1, 1, 0, 0]\n",
        "]\n",
        "\n",
        "# Test Case 4: Winning opportunity for the agent in the fourth column\n",
        "board4 = [\n",
        "    [0, 0, 0, 0, 0, 0, 0],\n",
        "    [0, 0, 0, 0, 0, 0, 0],\n",
        "    [0, 0, 0, 0, 0, 0, 0],\n",
        "    [0, 0, 0, 1, 0, 0, 0],\n",
        "    [0, 0, 0, 1, 0, 0, 0],\n",
        "    [0, 0, 0, 1, 0, 0, 0]\n",
        "]\n",
        "\n",
        "# Test Case 5: Winning opportunity for the agent in the fifth column\n",
        "board5 = [\n",
        "    [0, 0, 0, 0, 0, 0, 0],\n",
        "    [0, 0, 0, 0, 0, 0, 0],\n",
        "    [0, 0, 0, 0, 0, 0, 0],\n",
        "    [0, 0, 0, 0, 0, 0, 0],\n",
        "    [0, 0, 0, 0, 0, 0, 0],\n",
        "    [1, 1, 1, 0, 0, 0, 0]\n",
        "]\n",
        "boards = [board1,board2,board3,board4,board5]\n",
        "\n",
        "print(\"should be 0\", agent.act(board1, 1))  \n",
        "print(\"should be 3\", agent.act(board2, 1))  \n",
        "print(\"should be 1 or 5 or 0 (since 0 leads to a state where it wins no matter what also)\", agent.act(board3, 1))  \n",
        "print(\"should be 3\", agent.act(board4, 1))  \n",
        "print(\"should be 3\", agent.act(board5, 1))  \n"
      ]
    },
    {
      "cell_type": "markdown",
      "metadata": {
        "id": "3_GWxdn-h39q"
      },
      "source": [
        "How long does it take to make a move? Start with a smaller board with 4 columns and make the board larger by adding columns."
      ]
    },
    {
      "cell_type": "code",
      "execution_count": 543,
      "metadata": {
        "id": "mB3qJB39h39q"
      },
      "outputs": [
        {
          "name": "stdout",
          "output_type": "stream",
          "text": [
            "   Board Size      Time\n",
            "0           4  0.183226\n",
            "1           5  0.487804\n",
            "2           6  1.278039\n",
            "3           7  2.895605\n"
          ]
        }
      ],
      "source": [
        "import pandas as pd\n",
        "agent = JadonMinMaxSearch(\"Better\",4)\n",
        "results = []\n",
        "for size in range(4, 8):\n",
        "    board = np.zeros((6, size))\n",
        "    start_time = time.time()\n",
        "    agent.act(board, 1)\n",
        "    end_time = time.time()\n",
        "    results.append([size, end_time - start_time])\n",
        "\n",
        "df = pd.DataFrame(results, columns=['Board Size', 'Time'])\n",
        "print(df)"
      ]
    },
    {
      "cell_type": "markdown",
      "metadata": {
        "id": "cYEdvaEph39q"
      },
      "source": [
        "### Move ordering [5 points]\n",
        "\n",
        "Starting the search with better moves will increase the efficiency of alpha-beta pruning. Describe and implement a simple move ordering strategy. Make a table that shows how the ordering strategies influence the time it takes to make a move?"
      ]
    },
    {
      "cell_type": "code",
      "execution_count": 544,
      "metadata": {
        "id": "XfN0g0yeh39q"
      },
      "outputs": [],
      "source": [
        "# Your code/ answer goes here.\n",
        "class JadonBetterActionsMinMaxSearch(JadonMinMaxSearch):\n",
        "    @staticmethod\n",
        "    def actions(board):\n",
        "        \"\"\"Return a list of actions that are valid from this board.\"\"\"\n",
        "        num_cols = len(board[0])\n",
        "        center_first = sorted(range(num_cols), key=lambda x: abs(x - num_cols // 2))\n",
        "        valid_actions = []\n",
        "        for col in center_first:\n",
        "            if board[0][col] == 0:  # If the top cell in a column is empty\n",
        "                valid_actions.append(col)\n",
        "        return valid_actions"
      ]
    },
    {
      "cell_type": "code",
      "execution_count": 548,
      "metadata": {},
      "outputs": [
        {
          "name": "stdout",
          "output_type": "stream",
          "text": [
            "   Board Size      Time\n",
            "0           4  0.234592\n",
            "1           5  0.497962\n",
            "2           6  1.448474\n",
            "3           7  2.800962\n"
          ]
        }
      ],
      "source": [
        "import pandas as pd\n",
        "agent = JadonBetterActionsMinMaxSearch(\"Better\",4)\n",
        "results = []\n",
        "for size in range(4, 8):\n",
        "    board = np.zeros((6, size))\n",
        "    start_time = time.time()\n",
        "    agent.act(board, 1)\n",
        "    end_time = time.time()\n",
        "    results.append([size, end_time - start_time])\n",
        "\n",
        "df = pd.DataFrame(results, columns=['Board Size', 'Time'])\n",
        "print(df)"
      ]
    },
    {
      "cell_type": "code",
      "execution_count": 549,
      "metadata": {},
      "outputs": [
        {
          "data": {
            "image/png": "[encoded data removed]",
            "text/plain": [
              "<Figure size 1000x600 with 1 Axes>"
            ]
          },
          "metadata": {},
          "output_type": "display_data"
        },
        {
          "name": "stdout",
          "output_type": "stream",
          "text": [
            "|   Result |   Count |\n",
            "|---------:|--------:|\n",
            "|       -1 |      10 |\n",
            "|        1 |       0 |\n",
            "|        0 |       0 |\n",
            "| Class                          |   Average Time |\n",
            "|:-------------------------------|---------------:|\n",
            "| JadonMinMaxSearch              |       0.924089 |\n",
            "| JadonBetterActionsMinMaxSearch |       0.875358 |\n"
          ]
        }
      ],
      "source": [
        "results, times = play(JadonMinMaxSearch(\"red\",4),JadonBetterActionsMinMaxSearch(\"yellow\",4),10,graph=True)\n",
        "\n",
        "from tabulate import tabulate\n",
        "\n",
        "# Print results\n",
        "print(tabulate([(k, v) for k, v in results.items()], headers=['Result', 'Count'], tablefmt='pipe'))\n",
        "\n",
        "# Print average times\n",
        "avg_times = {k: np.mean(v) for k, v in times.items()}\n",
        "print(tabulate([(k, v) for k, v in avg_times.items()], headers=['Class', 'Average Time'], tablefmt='pipe'))"
      ]
    },
    {
      "cell_type": "markdown",
      "metadata": {},
      "source": [
        "You will notice that the middle first move ordering strategy, rather than the left to right, makes a difference in both move time as well as win percentage. Now, for the same depth, the middle move ordering always wins, and the average time to move is about 1% lower, (which isn't that much, but it's because at the end it finds winning moves faster)."
      ]
    },
    {
      "cell_type": "markdown",
      "metadata": {
        "id": "6Ac2JEKNh39q"
      },
      "source": [
        "### The first few moves [5 points]\n",
        "\n",
        "Start with an empty board. This is the worst case scenario for minimax search since it needs solve all possible games that can be played (minus some pruning) before making the decision. What can you do?"
      ]
    },
    {
      "cell_type": "markdown",
      "metadata": {},
      "source": [
        "You can limit the depth to a depth that allows it to complete moves in a reasonable amount of time. When increasing the board size, this is necessary because we do not have the computing power to check every single outcome of every move due to the large state space size."
      ]
    },
    {
      "cell_type": "markdown",
      "metadata": {},
      "source": [
        "Already implemented a max depth, so that it runs in a reasonable amount of time."
      ]
    },
    {
      "cell_type": "markdown",
      "metadata": {
        "id": "H3XzAZyxh39r"
      },
      "source": [
        "### Playtime [5 points]\n",
        "\n",
        "Let the Minimax Search agent play a random agent on a small board. Analyze wins, losses and draws."
      ]
    },
    {
      "cell_type": "code",
      "execution_count": 550,
      "metadata": {
        "id": "j5hOYVNgh39r"
      },
      "outputs": [
        {
          "name": "stdout",
          "output_type": "stream",
          "text": [
            "Results for depth of 4:\n",
            "|   Result |   Count |\n",
            "|---------:|--------:|\n",
            "|       -1 |       0 |\n",
            "|        1 |      65 |\n",
            "|        0 |      35 |\n",
            "| Class                          |   Average Time |\n",
            "|:-------------------------------|---------------:|\n",
            "| JadonBetterActionsMinMaxSearch |    0.0301973   |\n",
            "| RandomPlayer                   |    4.80226e-05 |\n",
            "results for depth of 5:\n",
            "|   Result |   Count |\n",
            "|---------:|--------:|\n",
            "|       -1 |       1 |\n",
            "|        1 |      76 |\n",
            "|        0 |      23 |\n",
            "| Class                          |   Average Time |\n",
            "|:-------------------------------|---------------:|\n",
            "| JadonBetterActionsMinMaxSearch |    0.114061    |\n",
            "| RandomPlayer                   |    0.000112411 |\n",
            "results for depth of 6:\n",
            "|   Result |   Count |\n",
            "|---------:|--------:|\n",
            "|       -1 |       1 |\n",
            "|        1 |      83 |\n",
            "|        0 |      16 |\n",
            "| Class                          |   Average Time |\n",
            "|:-------------------------------|---------------:|\n",
            "| JadonBetterActionsMinMaxSearch |    0.59563     |\n",
            "| RandomPlayer                   |    0.000227926 |\n"
          ]
        }
      ],
      "source": [
        "# Your code/ answer goes here.\n",
        "results, times = play(JadonBetterActionsMinMaxSearch(\"red\",max_depth=4),RandomPlayer(\"yellow\"),100,(4,4))\n",
        "\n",
        "from tabulate import tabulate\n",
        "\n",
        "print(\"Results for depth of 4:\")\n",
        "# Print results\n",
        "print(tabulate([(k, v) for k, v in results.items()], headers=['Result', 'Count'], tablefmt='pipe'))\n",
        "\n",
        "# Print average times\n",
        "avg_times = {k: np.mean(v) for k, v in times.items()}\n",
        "print(tabulate([(k, v) for k, v in avg_times.items()], headers=['Class', 'Average Time'], tablefmt='pipe'))\n",
        "\n",
        "\n",
        "\n",
        "\n",
        "results, times = play(JadonBetterActionsMinMaxSearch(\"red\",max_depth=5),RandomPlayer(\"yellow\"),100,(4,4))\n",
        "\n",
        "from tabulate import tabulate\n",
        "\n",
        "print(\"results for depth of 5:\")\n",
        "# Print results\n",
        "print(tabulate([(k, v) for k, v in results.items()], headers=['Result', 'Count'], tablefmt='pipe'))\n",
        "\n",
        "# Print average times\n",
        "avg_times = {k: np.mean(v) for k, v in times.items()}\n",
        "print(tabulate([(k, v) for k, v in avg_times.items()], headers=['Class', 'Average Time'], tablefmt='pipe'))\n",
        "\n",
        "\n",
        "\n",
        "print(\"results for depth of 6:\")\n",
        "results, times = play(JadonBetterActionsMinMaxSearch(\"red\",max_depth=6),RandomPlayer(\"yellow\"),100,(4,4))\n",
        "\n",
        "from tabulate import tabulate\n",
        "\n",
        "# Print results\n",
        "print(tabulate([(k, v) for k, v in results.items()], headers=['Result', 'Count'], tablefmt='pipe'))\n",
        "\n",
        "# Print average times\n",
        "avg_times = {k: np.mean(v) for k, v in times.items()}\n",
        "print(tabulate([(k, v) for k, v in avg_times.items()], headers=['Class', 'Average Time'], tablefmt='pipe'))"
      ]
    },
    {
      "cell_type": "markdown",
      "metadata": {},
      "source": [
        "Because the board size is so small, the random player can sometimes make the right moves in a row to beat or tie our basic min-max search. As we increase its depth, it wins more often, but it also takes longer."
      ]
    },
    {
      "cell_type": "markdown",
      "metadata": {
        "id": "U1Bew-vBh39r"
      },
      "source": [
        "## Task 4: Heuristic Alpha-Beta Tree Search\n",
        "\n",
        "### Heuristic evaluation function [15 points]\n",
        "\n",
        "Define and implement a heuristic evaluation function."
      ]
    },
    {
      "cell_type": "code",
      "execution_count": 551,
      "metadata": {
        "id": "gOJZtDO9h39r"
      },
      "outputs": [],
      "source": [
        "# Your code/ answer goes here.\n",
        "from overrides import overrides\n",
        "class JadonBetterHeuristicsBetterActionsMinMaxSearch(JadonBetterActionsMinMaxSearch):\n",
        "    @overrides\n",
        "    def max_value(self,state, player,depth):\n",
        "        \"\"\"player's best move.\"\"\"\n",
        "        global DEBUG, COUNT\n",
        "        COUNT += 1\n",
        "        \n",
        "        # return utility of state if it is a terminal state\n",
        "        v = BaseConnectFour.utility(state, player)\n",
        "        if DEBUG >= 2: print(\"max in: \" + str(state) + str([v]) ) \n",
        "        if v is not None: return v * 1000, None\n",
        "        if depth==self.max_depth: return self.heuristic(state, player),None\n",
        "            \n",
        "        v, move = -math.inf, None\n",
        "\n",
        "        # check all possible actions in the state, return move with the largest value\n",
        "        for a in BaseConnectFour.actions(state):\n",
        "            # v2, a2 = min_value(result(state, player, a), player)\n",
        "\n",
        "            v2, a2 = self.min_value(BaseConnectFour.result(state, a,player)[0], player,depth+1)\n",
        "            if v2 > v:\n",
        "                v, move = v2, a\n",
        "        \n",
        "        if DEBUG >= 2: print(\"max out: \" + str(state) + str([v, move]) ) \n",
        "        return v, move\n",
        "    @overrides\n",
        "    def min_value(self,state, player,depth):\n",
        "        \"\"\"opponent's best response.\"\"\"\n",
        "        global DEBUG, COUNT\n",
        "        COUNT += 1\n",
        "        \n",
        "        # return utility of state if it is a terminal state\n",
        "        v = BaseConnectFour.utility(state, player)\n",
        "        if DEBUG >= 2: print(\"min in: \" + str(state) + str([v]) ) \n",
        "        if v is not None: return v*1000, None\n",
        "        if depth==self.max_depth: return self.heuristic(state, player),None\n",
        "\n",
        "        \n",
        "        v, move = +math.inf, None\n",
        "\n",
        "        # check all possible actions in the state, return move with the smallest value\n",
        "        for a in BaseConnectFour.actions(state):\n",
        "            # v2, a2 = max_value(result(state, other(player), a), player)\n",
        "\n",
        "            v2, a2 = self.max_value(BaseConnectFour.result(state, a,-player)[0], player,depth+1)\n",
        "            if v2 < v:\n",
        "                v, move = v2, a\n",
        "        \n",
        "        if DEBUG >= 2: print(\"min out: \" + str(state) + str([v, move]) ) \n",
        "        return v, move\n",
        "    \n",
        "    \n",
        "    def heuristic(self,state, player):\n",
        "        #after thinking of some ways to do a heuristic (like just counting all the triples)\n",
        "        # I looked up a good heuristic online which includes the center column and doubles and singles\n",
        "        #this makes it a very good heuristic.\n",
        "        \"\"\"\n",
        "        Heuristic evaluation function for Connect 4 board state.\n",
        "        :param board: 2D list representing the Connect 4 board.\n",
        "        :param player: The player to evaluate the board state for.\n",
        "        :return: A score representing the 'goodness' of the board state for the player.\n",
        "        \"\"\"\n",
        "        board = np.array(state)\n",
        "        score = 0\n",
        "\n",
        "        # Score center column\n",
        "        center_array = [int(i) for i in list(board[:, 2])]\n",
        "        center_count = center_array.count(player)\n",
        "        score += center_count * 3\n",
        "\n",
        "        # Score Horizontal locations\n",
        "        for r in range(len(board)):\n",
        "            row_array = [int(i) for i in list(board[r, :])]\n",
        "            for c in range(4):\n",
        "                window = row_array[c:c+4]\n",
        "                score += self.evaluate_window(window, player)\n",
        "\n",
        "        # Score Vertical locations\n",
        "        for c in range(len(board[0])):\n",
        "            col_array = [int(i) for i in list(board[:, c])]\n",
        "            for r in range(3):\n",
        "                window = col_array[r:r+4]\n",
        "                score += self.evaluate_window(window, player)\n",
        "\n",
        "        # Score posiive sloped diagonal\n",
        "        for r in range(len(board)-3):\n",
        "            for c in range(len(board[0])-3):\n",
        "                window = [board[r+i][c+i] for i in range(4)]\n",
        "                score += self.evaluate_window(window, player)\n",
        "\n",
        "        # Score negative sloped diagonal\n",
        "        for r in range(3, len(board)):\n",
        "            for c in range(len(board[0])-3):\n",
        "                window = [board[r-i][c+i] for i in range(4)]\n",
        "                score += self.evaluate_window(window, player)\n",
        "\n",
        "        return score\n",
        "\n",
        "    def evaluate_window(self,window, player):\n",
        "        \"\"\"\n",
        "        Evaluates a window of four cells and returns a score.\n",
        "        :param window: List of four cells.\n",
        "        :param player: The player to evaluate the window for.\n",
        "        :return: Score for the window.\n",
        "        \"\"\"\n",
        "        score = 0\n",
        "        opp_player = player % 2 + 1\n",
        "        if window.count(player) == 4:\n",
        "            score += 100\n",
        "        elif window.count(player) == 3 and window.count(0) == 1:\n",
        "            score += 5\n",
        "        elif window.count(player) == 2 and window.count(0) == 2:\n",
        "            score += 2\n",
        "\n",
        "        if window.count(opp_player) == 3 and window.count(0) == 1:\n",
        "            score -= 4\n",
        "\n",
        "        return score\n"
      ]
    },
    {
      "cell_type": "markdown",
      "metadata": {
        "id": "TTjKi2Hhh39r"
      },
      "source": [
        "### Cutting Off Search [10 points]\n",
        "\n",
        "Modify your minimax search with alpha-beta pruning to cut off search at a specified depth and use the heuristic evaluation function. Experiment with different cutoff values."
      ]
    },
    {
      "cell_type": "code",
      "execution_count": 552,
      "metadata": {
        "id": "CN76IVU2h39r"
      },
      "outputs": [
        {
          "name": "stdout",
          "output_type": "stream",
          "text": [
            "Red(1) Depth: 2, Yellow(-1) Depth: 1  Board size: (5, 6), Results: {-1: 0, 1: 1, 0: 0}\n",
            "Red(1) Depth: 2, Yellow(-1) Depth: 1  Board size: (6, 7), Results: {-1: 0, 1: 1, 0: 0}\n",
            "Red(1) Depth: 2, Yellow(-1) Depth: 1  Board size: (7, 8), Results: {-1: 0, 1: 1, 0: 0}\n",
            "Red(1) Depth: 3, Yellow(-1) Depth: 2  Board size: (5, 6), Results: {-1: 0, 1: 1, 0: 0}\n",
            "Red(1) Depth: 3, Yellow(-1) Depth: 2  Board size: (6, 7), Results: {-1: 0, 1: 1, 0: 0}\n",
            "Red(1) Depth: 3, Yellow(-1) Depth: 2  Board size: (7, 8), Results: {-1: 0, 1: 1, 0: 0}\n",
            "Red(1) Depth: 4, Yellow(-1) Depth: 3  Board size: (5, 6), Results: {-1: 0, 1: 1, 0: 0}\n",
            "Red(1) Depth: 4, Yellow(-1) Depth: 3  Board size: (6, 7), Results: {-1: 0, 1: 1, 0: 0}\n",
            "Red(1) Depth: 4, Yellow(-1) Depth: 3  Board size: (7, 8), Results: {-1: 0, 1: 1, 0: 0}\n",
            "[0.915947675704956, 1.6274104118347168, 4.631514310836792, 3.8596153259277344, 4.754920959472656, 9.635130405426025, 8.33833622932434, 25.976656198501587, 152.25108981132507]\n"
          ]
        }
      ],
      "source": [
        "# Your code/ answer goes here.\n",
        "DEBUG = 0\n",
        "times_list = []\n",
        "for depth in range(2, 5):  # Change the range as needed\n",
        "    for board_size in [(5, 6), (6, 7), (7, 8)]:  # Add more board sizes as needed\n",
        "        start = time.time()\n",
        "        results, times = play(JadonBetterHeuristicsBetterActionsMinMaxSearch(\"red\", depth),\n",
        "                              JadonBetterHeuristicsBetterActionsMinMaxSearch(\"yellow\", depth-1),\n",
        "                              1,\n",
        "                              board_size)\n",
        "        end = time.time()\n",
        "        time_taken = end - start\n",
        "        times_list.append(time_taken) \n",
        "        print(f\"Red(1) Depth: {depth}, Yellow(-1) Depth: {depth-1}  Board size: {board_size}, Results: {results}\")\n",
        "print(times_list)"
      ]
    },
    {
      "cell_type": "markdown",
      "metadata": {},
      "source": [
        "Through changing the of board size and depth, you will notice that the agent with the higher depth always wins."
      ]
    },
    {
      "cell_type": "markdown",
      "metadata": {
        "id": "NK5_UqJ1h39r"
      },
      "source": [
        "Experiment with the same manually created boards as above to check if the agent spots wining opportunities."
      ]
    },
    {
      "cell_type": "code",
      "execution_count": 553,
      "metadata": {
        "id": "xKJLKF6-h39r"
      },
      "outputs": [
        {
          "name": "stdout",
          "output_type": "stream",
          "text": [
            "should be 0 0\n",
            "should be 3 3\n",
            "should be 1 or 5 or 0 (since 0 leads to a state where it wins no matter what also) 0\n",
            "should be 3 3\n",
            "should be 3 3\n"
          ]
        }
      ],
      "source": [
        "# Your code/ answer goes here.\n",
        "agent = JadonBetterHeuristicsBetterActionsMinMaxSearch(\"red\",4)\n",
        "print(\"should be 0\", agent.act(board1, 1))  \n",
        "print(\"should be 3\", agent.act(board2, 1))  \n",
        "print(\"should be 1 or 5 or 0 (since 0 leads to a state where it wins no matter what also)\", agent.act(board3, 1))  \n",
        "print(\"should be 3\", agent.act(board4, 1))  \n",
        "print(\"should be 3\", agent.act(board5, 1))  "
      ]
    },
    {
      "cell_type": "markdown",
      "metadata": {
        "id": "qZ3BC34Nh39r"
      },
      "source": [
        "How long does it take to make a move? Start with a smaller board with 4 columns and make the board larger by adding columns."
      ]
    },
    {
      "cell_type": "code",
      "execution_count": 554,
      "metadata": {
        "id": "1PID2d2Zh39r"
      },
      "outputs": [
        {
          "name": "stdout",
          "output_type": "stream",
          "text": [
            "depth: 2, size: (5, 6), t = 0.042183637619018555, C = 2\n",
            "depth: 2, size: (6, 7), t = 0.08543682098388672, C = 2\n",
            "depth: 2, size: (7, 8), t = 0.1434650421142578, C = 2\n",
            "depth: 3, size: (5, 6), t = 0.18743133544921875, C = 2\n",
            "depth: 3, size: (6, 7), t = 0.5149500370025635, C = 2\n",
            "depth: 3, size: (7, 8), t = 1.0977814197540283, C = 2\n",
            "depth: 4, size: (5, 6), t = 1.1043283939361572, C = 2\n",
            "depth: 4, size: (6, 7), t = 4.523494720458984, C = 2\n",
            "depth: 4, size: (7, 8), t = 9.40776252746582, C = 2\n",
            "depth: 5, size: (5, 6), t = 6.662064552307129, C = 2\n",
            "depth: 5, size: (6, 7), t = 24.281134128570557, C = 2\n",
            "depth: 5, size: (7, 8), t = 71.47818779945374, C = 2\n",
            "[0.042183637619018555, 0.08543682098388672, 0.1434650421142578, 0.18743133544921875, 0.5149500370025635, 1.0977814197540283, 1.1043283939361572, 4.523494720458984, 9.40776252746582, 6.662064552307129, 24.281134128570557, 71.47818779945374]\n"
          ]
        }
      ],
      "source": [
        "# Your code/ answer goes here.\n",
        "# Your code/ answer goes here.\n",
        "# DEBUG = 0\n",
        "# results,times = play(JadonBetterHeuristicsBetterActionsMinMaxSearch(\"red\",4),\n",
        "#                      JadonBetterHeuristicsBetterActionsMinMaxSearch(\"yellow\",4),\n",
        "#                      1,\n",
        "#                      (5,6))\n",
        "# print(results)\n",
        "DEBUG = 0\n",
        "times_list = []\n",
        "\n",
        "for depth in range(2, 6):  # Change the range as needed\n",
        "    for board_size in [(5, 6), (6, 7), (7, 8)]:  # Add more board sizes as needed\n",
        "        agent = JadonBetterHeuristicsBetterActionsMinMaxSearch(\"red\",depth)\n",
        "        start = time.time()\n",
        "        choice = agent.act(empty_board(shape=board_size), 1)\n",
        "        end = time.time()\n",
        "        time_taken = end - start\n",
        "        times_list.append(time_taken) \n",
        "        print(f\"depth: {depth}, size: {board_size}, t = {time_taken}, C = {choice}\")\n",
        "print(times_list)"
      ]
    },
    {
      "cell_type": "markdown",
      "metadata": {
        "id": "y85xrDyoh39r"
      },
      "source": [
        "### Playtime [5 points]\n",
        "\n",
        "Let two heuristic search agents (different cutoff depth, different heuristic evaluation function) compete against each other on a reasonably sized board. Since there is no randomness, you only need to let them play once."
      ]
    },
    {
      "cell_type": "code",
      "execution_count": 555,
      "metadata": {
        "id": "PAusO9cPh39r"
      },
      "outputs": [
        {
          "data": {
            "image/png": "[encoded data removed]",
            "text/plain": [
              "<Figure size 1000x600 with 1 Axes>"
            ]
          },
          "metadata": {},
          "output_type": "display_data"
        },
        {
          "data": {
            "text/plain": [
              "({-1: 0, 1: 1, 0: 0},\n",
              " {'JadonBetterHeuristicsBetterActionsMinMaxSearch': array([0.54807734, 0.48438597, 0.49744225, 0.40535855, 0.46327686,\n",
              "         0.47357631, 0.43248391, 0.21291637, 0.1072998 ]),\n",
              "  'JadonBetterActionsMinMaxSearch': array([2.88446426, 2.84950542, 2.6791923 , 2.70357037, 2.18601799,\n",
              "         2.60625553, 1.83341002, 0.64608169])})"
            ]
          },
          "execution_count": 555,
          "metadata": {},
          "output_type": "execute_result"
        }
      ],
      "source": [
        "# Your code/ answer goes here.\n",
        "agent1 = JadonBetterHeuristicsBetterActionsMinMaxSearch(\"red\",3)\n",
        "agent2 = JadonBetterActionsMinMaxSearch(\"yellow\",4)\n",
        "play(agent1,agent2,1,(6,7),True)"
      ]
    },
    {
      "cell_type": "markdown",
      "metadata": {
        "id": "1pqHpUCth39v"
      },
      "source": [
        "## Challenge task [up to +10 bonus point will be awarded separately]\n",
        "\n",
        "Find another student and let your best agent play against the other student's best player. We will set up a class tournament on Canvas. This tournament will continue after the submission deadline."
      ]
    },
    {
      "cell_type": "markdown",
      "metadata": {
        "id": "C8rjF-rbh39v"
      },
      "source": [
        "## Graduate student advanced task: Pure Monte Carlo Search and Best First Move [10 point]\n",
        "\n",
        "__Undergraduate students:__ This is a bonus task you can attempt if you like [+5 bonus point].\n",
        "\n",
        "### Pure Monte Carlo Search\n",
        "\n",
        "Implement Pure Monte Carlo Search and investigate how this search performs on the test boards that you have used above."
      ]
    },
    {
      "cell_type": "code",
      "execution_count": 556,
      "metadata": {
        "id": "JOWrYtKzh39v"
      },
      "outputs": [],
      "source": [
        "# Your code/ answer goes here.\n",
        "import random\n",
        "import numpy as np\n",
        "\n",
        "class JadonPureMonteCarloSearch(BaseConnectFour):\n",
        "    def __init__(self, name=\"An Agent\", num_simulations=1000):\n",
        "        self.name = name\n",
        "        self.num_simulations = num_simulations\n",
        "\n",
        "    def act(self, board, player=1):\n",
        "        counts = {move: 0 for move in self.actions(board)}\n",
        "        wins = {move: 0 for move in self.actions(board)}\n",
        "\n",
        "        for _ in range(self.num_simulations):\n",
        "            move = random.choice(list(counts.keys()))\n",
        "            counts[move] += 1\n",
        "            wins[move] += self.simulate(board, move, player)\n",
        "\n",
        "        win_rates = {move: wins[move] / counts[move] for move in counts}\n",
        "        best_move = max(win_rates, key=win_rates.get)\n",
        "        return best_move\n",
        "\n",
        "    def simulate(self, board, move, playerOrig):\n",
        "        player = playerOrig\n",
        "        temp_board, _ = self.result(np.copy(board), move, player)  # Use the returned board\n",
        "        while True:\n",
        "            if self.terminal(temp_board):\n",
        "                return self.utility(temp_board,playerOrig)\n",
        "                # return 1 if self.utility(temp_board, player) > 0 else 0\n",
        "            # elif not self.actions(temp_board):\n",
        "            #     return 0.5\n",
        "            else:\n",
        "                temp_move = random.choice(self.actions(temp_board))\n",
        "                player = -player\n",
        "                temp_board, _ = self.result(temp_board, temp_move, player)  # Use the returned board"
      ]
    },
    {
      "cell_type": "code",
      "execution_count": 557,
      "metadata": {},
      "outputs": [
        {
          "data": {
            "image/png": "[encoded data removed]",
            "text/plain": [
              "<Figure size 1000x600 with 1 Axes>"
            ]
          },
          "metadata": {},
          "output_type": "display_data"
        },
        {
          "name": "stdout",
          "output_type": "stream",
          "text": [
            "{-1: 0, 1: 1, 0: 0}\n"
          ]
        }
      ],
      "source": [
        "agent1 = JadonPureMonteCarloSearch(\"red\",1000)\n",
        "# agent2 = JadonBetterHeuristicsBetterActionsMinMaxSearch(\"yellow\",3)\n",
        "agent2 = RandomPlayer(\"yellow\")\n",
        "DEBUG = 0\n",
        "results, times = play(agent1,agent2,1,(5,6),True)\n",
        "print(results)\n"
      ]
    },
    {
      "cell_type": "markdown",
      "metadata": {
        "id": "noOP5fZAh39v"
      },
      "source": [
        "### Best First Move\n",
        "\n",
        "Use Oure Monte Carlo Search to determine what the best first move is? Describe under what assumptions this is the \"best\" first move.  "
      ]
    },
    {
      "cell_type": "code",
      "execution_count": 558,
      "metadata": {
        "id": "GI0nhMTkh39v"
      },
      "outputs": [
        {
          "name": "stdout",
          "output_type": "stream",
          "text": [
            "3\n"
          ]
        }
      ],
      "source": [
        "# Your code/ answer goes here.\n",
        "board6 = [\n",
        "    [0, 0, 0, 0, 0, 0, 0],\n",
        "    [0, 0, 0, 0, 0, 0, 0],\n",
        "    [0, 0, 0, 0, 0, 0, 0],\n",
        "    [0, 0, 0, 0, 0, 0, -1],\n",
        "    [0, 0, 0, 0, 0, 0, -1],\n",
        "    [1, 1, 1, 0, 0, 0, -1]\n",
        "]\n",
        "agent1 = JadonPureMonteCarloSearch(\"red\",1000)\n",
        "action = agent1.act(board6,1)\n",
        "print(action)\n"
      ]
    },
    {
      "cell_type": "code",
      "execution_count": 559,
      "metadata": {},
      "outputs": [
        {
          "name": "stdout",
          "output_type": "stream",
          "text": [
            "3\n"
          ]
        }
      ],
      "source": [
        "agent1 = JadonPureMonteCarloSearch(\"red\",1000)\n",
        "action = agent1.act(empty_board(),1)\n",
        "print(action)\n"
      ]
    },
    {
      "cell_type": "markdown",
      "metadata": {},
      "source": [
        "Under the assumption that after the first move, all moves are random, the best place to put your first move is the middle column, which can be confirmed by looking it up online."
      ]
    }
  ],
  "metadata": {
    "colab": {
      "provenance": []
    },
    "kernelspec": {
      "display_name": "Python 3 (ipykernel)",
      "language": "python",
      "name": "python3"
    },
    "language_info": {
      "codemirror_mode": {
        "name": "ipython",
        "version": 3
      },
      "file_extension": ".py",
      "mimetype": "text/x-python",
      "name": "python",
      "nbconvert_exporter": "python",
      "pygments_lexer": "ipython3",
      "version": "3.11.5"
    }
  },
  "nbformat": 4,
  "nbformat_minor": 0
}
